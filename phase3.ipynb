{
 "cells": [
  {
   "cell_type": "markdown",
   "metadata": {
    "id": "9FIZCSqVuWSb"
   },
   "source": [
    "## Phase 3"
   ]
  },
  {
   "cell_type": "markdown",
   "metadata": {
    "id": "976IIwdyuhSk"
   },
   "source": [
    "### Header\n",
    "#### Course Name: \n",
    "#### Project name:\n",
    "#### Name of group member:"
   ]
  },
  {
   "cell_type": "markdown",
   "metadata": {
    "id": "WlFNyBSWukkE"
   },
   "source": [
    "### Q Write down the following information: \n",
    "#### 1. Problem Statement: \n",
    "\n"
   ]
  },
  {
   "cell_type": "markdown",
   "metadata": {
    "id": "0GVyBWN0utp5"
   },
   "source": [
    "#### 2. Hypothesis:\n",
    "   + hypothesis 1:  \n",
    "   + hypothesis 2:\n",
    "   + ..."
   ]
  },
  {
   "cell_type": "markdown",
   "metadata": {
    "id": "qufK6cVXuwP1"
   },
   "source": [
    "#### 3 Cleaned Datasets\n",
    "Display the cleaned dataset after phase 1\n"
   ]
  },
  {
   "cell_type": "code",
   "execution_count": 2,
   "metadata": {
    "id": "cY0MZsUmASEn"
   },
   "outputs": [
    {
     "data": {
      "text/html": [
       "<div>\n",
       "<style scoped>\n",
       "    .dataframe tbody tr th:only-of-type {\n",
       "        vertical-align: middle;\n",
       "    }\n",
       "\n",
       "    .dataframe tbody tr th {\n",
       "        vertical-align: top;\n",
       "    }\n",
       "\n",
       "    .dataframe thead th {\n",
       "        text-align: right;\n",
       "    }\n",
       "</style>\n",
       "<table border=\"1\" class=\"dataframe\">\n",
       "  <thead>\n",
       "    <tr style=\"text-align: right;\">\n",
       "      <th></th>\n",
       "      <th>puma</th>\n",
       "      <th>year</th>\n",
       "      <th>mergeid</th>\n",
       "      <th>estimate_black_females</th>\n",
       "      <th>estimate_total_pop</th>\n",
       "      <th>percent_black_only</th>\n",
       "      <th>percent_black_women</th>\n",
       "      <th>quantile_black_women</th>\n",
       "      <th>gini_index</th>\n",
       "      <th>percent_second_mortgage</th>\n",
       "      <th>...</th>\n",
       "      <th>disability_status</th>\n",
       "      <th>total_housing_units</th>\n",
       "      <th>num_renter_occupied</th>\n",
       "      <th>num_owner_occupied</th>\n",
       "      <th>num_total_occupied</th>\n",
       "      <th>percent_born_us</th>\n",
       "      <th>english_prof</th>\n",
       "      <th>percent_college</th>\n",
       "      <th>percent_uninsured</th>\n",
       "      <th>percent_unemployed</th>\n",
       "    </tr>\n",
       "  </thead>\n",
       "  <tbody>\n",
       "    <tr>\n",
       "      <th>0</th>\n",
       "      <td>3603701</td>\n",
       "      <td>2011</td>\n",
       "      <td>3603701 _ 2011</td>\n",
       "      <td>8349</td>\n",
       "      <td>106558</td>\n",
       "      <td>14.3</td>\n",
       "      <td>7.835170</td>\n",
       "      <td>3</td>\n",
       "      <td>0.4852</td>\n",
       "      <td>14.0</td>\n",
       "      <td>...</td>\n",
       "      <td>14.349000</td>\n",
       "      <td>45433</td>\n",
       "      <td>28757</td>\n",
       "      <td>12714</td>\n",
       "      <td>41471</td>\n",
       "      <td>62.3</td>\n",
       "      <td>20.3</td>\n",
       "      <td>38.7</td>\n",
       "      <td>11.983000</td>\n",
       "      <td>6.3</td>\n",
       "    </tr>\n",
       "    <tr>\n",
       "      <th>1</th>\n",
       "      <td>3603702</td>\n",
       "      <td>2011</td>\n",
       "      <td>3603702 _ 2011</td>\n",
       "      <td>56929</td>\n",
       "      <td>144403</td>\n",
       "      <td>70.4</td>\n",
       "      <td>39.423696</td>\n",
       "      <td>5</td>\n",
       "      <td>0.4291</td>\n",
       "      <td>14.9</td>\n",
       "      <td>...</td>\n",
       "      <td>11.125000</td>\n",
       "      <td>51321</td>\n",
       "      <td>29678</td>\n",
       "      <td>17780</td>\n",
       "      <td>47458</td>\n",
       "      <td>56.1</td>\n",
       "      <td>7.7</td>\n",
       "      <td>22.1</td>\n",
       "      <td>14.353333</td>\n",
       "      <td>8.5</td>\n",
       "    </tr>\n",
       "    <tr>\n",
       "      <th>2</th>\n",
       "      <td>3603703</td>\n",
       "      <td>2011</td>\n",
       "      <td>3603703 _ 2011</td>\n",
       "      <td>17630</td>\n",
       "      <td>115784</td>\n",
       "      <td>27.2</td>\n",
       "      <td>15.226629</td>\n",
       "      <td>4</td>\n",
       "      <td>0.4293</td>\n",
       "      <td>13.6</td>\n",
       "      <td>...</td>\n",
       "      <td>13.975333</td>\n",
       "      <td>48946</td>\n",
       "      <td>23433</td>\n",
       "      <td>22537</td>\n",
       "      <td>45970</td>\n",
       "      <td>76.3</td>\n",
       "      <td>10.2</td>\n",
       "      <td>24.2</td>\n",
       "      <td>9.534667</td>\n",
       "      <td>5.5</td>\n",
       "    </tr>\n",
       "    <tr>\n",
       "      <th>3</th>\n",
       "      <td>3603704</td>\n",
       "      <td>2011</td>\n",
       "      <td>3603704 _ 2011</td>\n",
       "      <td>15386</td>\n",
       "      <td>125976</td>\n",
       "      <td>23.0</td>\n",
       "      <td>12.213437</td>\n",
       "      <td>3</td>\n",
       "      <td>0.4500</td>\n",
       "      <td>19.0</td>\n",
       "      <td>...</td>\n",
       "      <td>13.169000</td>\n",
       "      <td>47577</td>\n",
       "      <td>31071</td>\n",
       "      <td>13398</td>\n",
       "      <td>44469</td>\n",
       "      <td>58.9</td>\n",
       "      <td>21.2</td>\n",
       "      <td>23.2</td>\n",
       "      <td>13.788667</td>\n",
       "      <td>6.4</td>\n",
       "    </tr>\n",
       "    <tr>\n",
       "      <th>4</th>\n",
       "      <td>3603705</td>\n",
       "      <td>2011</td>\n",
       "      <td>3603705 _ 2011</td>\n",
       "      <td>30973</td>\n",
       "      <td>154386</td>\n",
       "      <td>36.4</td>\n",
       "      <td>20.062052</td>\n",
       "      <td>4</td>\n",
       "      <td>0.4847</td>\n",
       "      <td>12.1</td>\n",
       "      <td>...</td>\n",
       "      <td>14.863333</td>\n",
       "      <td>55842</td>\n",
       "      <td>47237</td>\n",
       "      <td>3850</td>\n",
       "      <td>51087</td>\n",
       "      <td>60.8</td>\n",
       "      <td>28.5</td>\n",
       "      <td>9.7</td>\n",
       "      <td>15.490667</td>\n",
       "      <td>8.4</td>\n",
       "    </tr>\n",
       "  </tbody>\n",
       "</table>\n",
       "<p>5 rows × 44 columns</p>\n",
       "</div>"
      ],
      "text/plain": [
       "      puma  year         mergeid  estimate_black_females  estimate_total_pop  \\\n",
       "0  3603701  2011  3603701 _ 2011                    8349              106558   \n",
       "1  3603702  2011  3603702 _ 2011                   56929              144403   \n",
       "2  3603703  2011  3603703 _ 2011                   17630              115784   \n",
       "3  3603704  2011  3603704 _ 2011                   15386              125976   \n",
       "4  3603705  2011  3603705 _ 2011                   30973              154386   \n",
       "\n",
       "   percent_black_only  percent_black_women  quantile_black_women  gini_index  \\\n",
       "0                14.3             7.835170                     3      0.4852   \n",
       "1                70.4            39.423696                     5      0.4291   \n",
       "2                27.2            15.226629                     4      0.4293   \n",
       "3                23.0            12.213437                     3      0.4500   \n",
       "4                36.4            20.062052                     4      0.4847   \n",
       "\n",
       "   percent_second_mortgage  ...  disability_status  total_housing_units  \\\n",
       "0                     14.0  ...          14.349000                45433   \n",
       "1                     14.9  ...          11.125000                51321   \n",
       "2                     13.6  ...          13.975333                48946   \n",
       "3                     19.0  ...          13.169000                47577   \n",
       "4                     12.1  ...          14.863333                55842   \n",
       "\n",
       "   num_renter_occupied  num_owner_occupied  num_total_occupied  \\\n",
       "0                28757               12714               41471   \n",
       "1                29678               17780               47458   \n",
       "2                23433               22537               45970   \n",
       "3                31071               13398               44469   \n",
       "4                47237                3850               51087   \n",
       "\n",
       "   percent_born_us  english_prof  percent_college  percent_uninsured  \\\n",
       "0             62.3          20.3             38.7          11.983000   \n",
       "1             56.1           7.7             22.1          14.353333   \n",
       "2             76.3          10.2             24.2           9.534667   \n",
       "3             58.9          21.2             23.2          13.788667   \n",
       "4             60.8          28.5              9.7          15.490667   \n",
       "\n",
       "   percent_unemployed  \n",
       "0                 6.3  \n",
       "1                 8.5  \n",
       "2                 5.5  \n",
       "3                 6.4  \n",
       "4                 8.4  \n",
       "\n",
       "[5 rows x 44 columns]"
      ]
     },
     "execution_count": 2,
     "metadata": {},
     "output_type": "execute_result"
    }
   ],
   "source": [
    "# import your cleaned dataset\n",
    "import pandas as pd \n",
    "df = pd.read_csv('data_imputated.csv')\n",
    "df.head(5)\n",
    "# display the first five rows data.head(5)"
   ]
  },
  {
   "cell_type": "code",
   "execution_count": 3,
   "metadata": {},
   "outputs": [
    {
     "data": {
      "text/plain": [
       "Index(['puma', 'year', 'mergeid', 'estimate_black_females',\n",
       "       'estimate_total_pop', 'percent_black_only', 'percent_black_women',\n",
       "       'quantile_black_women', 'gini_index', 'percent_second_mortgage',\n",
       "       'percent_owner_occupied', 'percent_renter_occupied',\n",
       "       'percent_vacant_housing', 'homeowner_vacancy_rate',\n",
       "       'rental_vacancy_rate', 'percent_same_house_1_year',\n",
       "       'percent_no_plumbing', 'percent_no_kitchen', 'percent_overcrowding',\n",
       "       'avg_household_size', 'percent_owner_cost_burdent',\n",
       "       'rent_median_dollars', 'percent_renter_cost_burden',\n",
       "       'median_value_home', 'median_income', 'percent_below_poverty',\n",
       "       'percent_units_mortgage', 'percent_hispanic', 'percent_white_only',\n",
       "       'percent_american_indian', 'percent_asian', 'percent_hawaiian',\n",
       "       'percent_other_race', 'percent_twomore_races', 'disability_status',\n",
       "       'total_housing_units', 'num_renter_occupied', 'num_owner_occupied',\n",
       "       'num_total_occupied', 'percent_born_us', 'english_prof',\n",
       "       'percent_college', 'percent_uninsured', 'percent_unemployed'],\n",
       "      dtype='object')"
      ]
     },
     "execution_count": 3,
     "metadata": {},
     "output_type": "execute_result"
    }
   ],
   "source": [
    "df.columns"
   ]
  },
  {
   "cell_type": "code",
   "execution_count": 5,
   "metadata": {},
   "outputs": [],
   "source": [
    "df.drop(['puma','mergeid'], axis =1 , inplace = True)\n"
   ]
  },
  {
   "cell_type": "code",
   "execution_count": 6,
   "metadata": {},
   "outputs": [
    {
     "data": {
      "text/plain": [
       "0      2011\n",
       "1      2011\n",
       "2      2011\n",
       "3      2011\n",
       "4      2011\n",
       "       ... \n",
       "380    2017\n",
       "381    2017\n",
       "382    2017\n",
       "383    2017\n",
       "384    2017\n",
       "Name: year, Length: 385, dtype: int64"
      ]
     },
     "execution_count": 6,
     "metadata": {},
     "output_type": "execute_result"
    }
   ],
   "source": [
    "df['year']"
   ]
  },
  {
   "cell_type": "code",
   "execution_count": null,
   "metadata": {},
   "outputs": [],
   "source": [
    "# target for now ;; 'median_value_home'"
   ]
  },
  {
   "cell_type": "markdown",
   "metadata": {
    "id": "pZhUDBoFu58q"
   },
   "source": [
    "#### 4 Modeling  \n",
    "Please take a look at https://scikit-learn.org/stable/. First of all, understand what is the problem of your research such as classification problem, regression problem, clustering problem...... Then choose your algorithm. For each algorithm, you need to answer the following 5 questions. We give the example answer in section 6. "
   ]
  },
  {
   "cell_type": "markdown",
   "metadata": {
    "id": "4ngFlilwu8RO"
   },
   "source": [
    "**4.1 Method 1**\n",
    "\n",
    "#### Q: What assumptions need to be verified at this step?\n",
    "#### A: (answer here)\n",
    "#### Q: What algorithm did you choose?\n",
    "#### A: Linear Regression \n",
    "#### Q: Why you choose this algorithm?\n",
    "#### A: (answer here)\n",
    "#### Q: What metric can measure the quality of your algorithm?\n",
    "#### A: (answer here)\n",
    "#### Q: What is the outcome?\n",
    "#### A: (answer here)\n",
    "#### Q: Analysis and discussion:\n",
    "#### A: (answer here)"
   ]
  },
  {
   "cell_type": "code",
   "execution_count": 7,
   "metadata": {
    "id": "nK6TznoEvC_k"
   },
   "outputs": [
    {
     "name": "stdout",
     "output_type": "stream",
     "text": [
      "42.857142857142854\n"
     ]
    }
   ],
   "source": [
    "# code for modeling\n",
    "from sklearn.linear_model import LinearRegression \n",
    "from IPython.display import clear_output\n",
    "from collections import defaultdict \n",
    "# time series split \n",
    "completion = 0\n",
    "predictions_dict = defaultdict(tuple)\n",
    "for yr in range(2014, 2018): # we start with 2014 since anything below is not enough data \n",
    "    training_df = df[df['year'] < yr].copy()\n",
    "    target_df  = df[df['year'] == yr].copy()\n",
    "    cols_to_drop = ['year', 'median_value_home']\n",
    "    X_train, y_train = training_df.drop(cols_to_drop, axis = 1), training_df['median_value_home'] \n",
    "    X_test, y_test =  target_df.drop(cols_to_drop, axis = 1), target_df['median_value_home']\n",
    "    model = LinearRegression(normalize = True)\n",
    "    model = LinearRegression(normalize = True)\n",
    "    model.fit(X_train,y_train)\n",
    "    predictions_dict[yr] = (model.predict(X_test), y_test)\n",
    "    \n",
    "    print(completion /  (2018-2011)*100)\n",
    "    completion += 1 \n",
    "    clear_output(wait=True)"
   ]
  },
  {
   "cell_type": "code",
   "execution_count": 19,
   "metadata": {
    "id": "neHGO3EXBXEO"
   },
   "outputs": [
    {
     "data": {
      "text/plain": [
       "0.9051000011681749"
      ]
     },
     "execution_count": 19,
     "metadata": {},
     "output_type": "execute_result"
    }
   ],
   "source": [
    "# code for visualization the outcome\n",
    "from sklearn.metrics import r2_score\n",
    "prediction_yr = predictions_dict[2017]\n",
    "r2_score(prediction_yr[1], prediction_yr[0])"
   ]
  },
  {
   "cell_type": "code",
   "execution_count": 76,
   "metadata": {},
   "outputs": [
    {
     "data": {
      "application/vnd.plotly.v1+json": {
       "config": {
        "plotlyServerURL": "https://plot.ly"
       },
       "data": [
        {
         "marker": {
          "line": {
           "width": 2
          },
          "size": 6
         },
         "mode": "markers",
         "name": "2017 predictions",
         "type": "scatter",
         "x": [
          287300,
          404400,
          349500,
          436900,
          386500,
          217300,
          423900,
          198800,
          362700,
          352600,
          420500,
          630400,
          674500,
          667300,
          1087800,
          1120200,
          909900,
          781700,
          663000,
          1201100,
          504700,
          467000,
          393000,
          830400,
          571000,
          762300,
          820200,
          1092200,
          789600,
          440900,
          435200,
          512400,
          440200,
          613700,
          762000,
          768500,
          793500,
          705200,
          562900,
          723300,
          465800,
          660000,
          471800,
          586000,
          627800,
          437500,
          529700,
          506500,
          368700,
          527700,
          577100,
          458500,
          406200,
          457300,
          453400
         ],
         "xaxis": "x",
         "y": [
          329412.60055648,
          378433.2055908253,
          303428.4033994167,
          433992.61168760294,
          418603.86544813076,
          246426.07977160998,
          314496.8318031647,
          269428.859919196,
          352700.49135721754,
          427810.0024374949,
          435790.57145716995,
          610250.4994393364,
          703538.7572682791,
          630808.5400622413,
          1039572.2812840242,
          918629.888174101,
          879616.3141567537,
          860394.3165311043,
          580869.9553619926,
          1103642.2549609917,
          506089.3371475949,
          475444.85102176806,
          373577.5889100181,
          846724.9897572845,
          525833.17086796,
          654159.0600973028,
          868971.6835817073,
          987640.3047207093,
          657101.2287038495,
          430383.7311674615,
          449022.5449197921,
          525416.7603426029,
          426532.4898161236,
          603024.4350080804,
          674554.0728743321,
          562269.3615726742,
          713672.007319039,
          619882.7818609523,
          531293.3303150071,
          680949.0631632574,
          465527.25260696956,
          654348.7212984995,
          308149.1481232953,
          570638.807604043,
          563602.8943392639,
          435038.12085526576,
          489283.0793628511,
          451685.5103696664,
          380000.928290423,
          542604.1921531842,
          532005.6181709855,
          496177.2031949763,
          415706.7905135739,
          412040.24467243976,
          415990.5689722474
         ],
         "yaxis": "y"
        },
        {
         "line": {
          "color": "gray"
         },
         "marker": {
          "line": {
           "width": 2
          },
          "size": 6
         },
         "mode": "lines",
         "showlegend": false,
         "type": "scatter",
         "x": [
          0,
          1251100
         ],
         "xaxis": "x",
         "y": [
          0,
          1251100
         ],
         "yaxis": "y"
        }
       ],
       "layout": {
        "annotations": [
         {
          "arrowhead": 3,
          "ax": 30,
          "ay": 30,
          "text": "R squared score of 0.9051000011681749",
          "x": 0.65,
          "xref": "x domain",
          "y": 0.4,
          "yref": "y domain"
         }
        ],
        "template": {
         "data": {
          "bar": [
           {
            "error_x": {
             "color": "#2a3f5f"
            },
            "error_y": {
             "color": "#2a3f5f"
            },
            "marker": {
             "line": {
              "color": "#E5ECF6",
              "width": 0.5
             }
            },
            "type": "bar"
           }
          ],
          "barpolar": [
           {
            "marker": {
             "line": {
              "color": "#E5ECF6",
              "width": 0.5
             }
            },
            "type": "barpolar"
           }
          ],
          "carpet": [
           {
            "aaxis": {
             "endlinecolor": "#2a3f5f",
             "gridcolor": "white",
             "linecolor": "white",
             "minorgridcolor": "white",
             "startlinecolor": "#2a3f5f"
            },
            "baxis": {
             "endlinecolor": "#2a3f5f",
             "gridcolor": "white",
             "linecolor": "white",
             "minorgridcolor": "white",
             "startlinecolor": "#2a3f5f"
            },
            "type": "carpet"
           }
          ],
          "choropleth": [
           {
            "colorbar": {
             "outlinewidth": 0,
             "ticks": ""
            },
            "type": "choropleth"
           }
          ],
          "contour": [
           {
            "colorbar": {
             "outlinewidth": 0,
             "ticks": ""
            },
            "colorscale": [
             [
              0,
              "#0d0887"
             ],
             [
              0.1111111111111111,
              "#46039f"
             ],
             [
              0.2222222222222222,
              "#7201a8"
             ],
             [
              0.3333333333333333,
              "#9c179e"
             ],
             [
              0.4444444444444444,
              "#bd3786"
             ],
             [
              0.5555555555555556,
              "#d8576b"
             ],
             [
              0.6666666666666666,
              "#ed7953"
             ],
             [
              0.7777777777777778,
              "#fb9f3a"
             ],
             [
              0.8888888888888888,
              "#fdca26"
             ],
             [
              1,
              "#f0f921"
             ]
            ],
            "type": "contour"
           }
          ],
          "contourcarpet": [
           {
            "colorbar": {
             "outlinewidth": 0,
             "ticks": ""
            },
            "type": "contourcarpet"
           }
          ],
          "heatmap": [
           {
            "colorbar": {
             "outlinewidth": 0,
             "ticks": ""
            },
            "colorscale": [
             [
              0,
              "#0d0887"
             ],
             [
              0.1111111111111111,
              "#46039f"
             ],
             [
              0.2222222222222222,
              "#7201a8"
             ],
             [
              0.3333333333333333,
              "#9c179e"
             ],
             [
              0.4444444444444444,
              "#bd3786"
             ],
             [
              0.5555555555555556,
              "#d8576b"
             ],
             [
              0.6666666666666666,
              "#ed7953"
             ],
             [
              0.7777777777777778,
              "#fb9f3a"
             ],
             [
              0.8888888888888888,
              "#fdca26"
             ],
             [
              1,
              "#f0f921"
             ]
            ],
            "type": "heatmap"
           }
          ],
          "heatmapgl": [
           {
            "colorbar": {
             "outlinewidth": 0,
             "ticks": ""
            },
            "colorscale": [
             [
              0,
              "#0d0887"
             ],
             [
              0.1111111111111111,
              "#46039f"
             ],
             [
              0.2222222222222222,
              "#7201a8"
             ],
             [
              0.3333333333333333,
              "#9c179e"
             ],
             [
              0.4444444444444444,
              "#bd3786"
             ],
             [
              0.5555555555555556,
              "#d8576b"
             ],
             [
              0.6666666666666666,
              "#ed7953"
             ],
             [
              0.7777777777777778,
              "#fb9f3a"
             ],
             [
              0.8888888888888888,
              "#fdca26"
             ],
             [
              1,
              "#f0f921"
             ]
            ],
            "type": "heatmapgl"
           }
          ],
          "histogram": [
           {
            "marker": {
             "colorbar": {
              "outlinewidth": 0,
              "ticks": ""
             }
            },
            "type": "histogram"
           }
          ],
          "histogram2d": [
           {
            "colorbar": {
             "outlinewidth": 0,
             "ticks": ""
            },
            "colorscale": [
             [
              0,
              "#0d0887"
             ],
             [
              0.1111111111111111,
              "#46039f"
             ],
             [
              0.2222222222222222,
              "#7201a8"
             ],
             [
              0.3333333333333333,
              "#9c179e"
             ],
             [
              0.4444444444444444,
              "#bd3786"
             ],
             [
              0.5555555555555556,
              "#d8576b"
             ],
             [
              0.6666666666666666,
              "#ed7953"
             ],
             [
              0.7777777777777778,
              "#fb9f3a"
             ],
             [
              0.8888888888888888,
              "#fdca26"
             ],
             [
              1,
              "#f0f921"
             ]
            ],
            "type": "histogram2d"
           }
          ],
          "histogram2dcontour": [
           {
            "colorbar": {
             "outlinewidth": 0,
             "ticks": ""
            },
            "colorscale": [
             [
              0,
              "#0d0887"
             ],
             [
              0.1111111111111111,
              "#46039f"
             ],
             [
              0.2222222222222222,
              "#7201a8"
             ],
             [
              0.3333333333333333,
              "#9c179e"
             ],
             [
              0.4444444444444444,
              "#bd3786"
             ],
             [
              0.5555555555555556,
              "#d8576b"
             ],
             [
              0.6666666666666666,
              "#ed7953"
             ],
             [
              0.7777777777777778,
              "#fb9f3a"
             ],
             [
              0.8888888888888888,
              "#fdca26"
             ],
             [
              1,
              "#f0f921"
             ]
            ],
            "type": "histogram2dcontour"
           }
          ],
          "mesh3d": [
           {
            "colorbar": {
             "outlinewidth": 0,
             "ticks": ""
            },
            "type": "mesh3d"
           }
          ],
          "parcoords": [
           {
            "line": {
             "colorbar": {
              "outlinewidth": 0,
              "ticks": ""
             }
            },
            "type": "parcoords"
           }
          ],
          "pie": [
           {
            "automargin": true,
            "type": "pie"
           }
          ],
          "scatter": [
           {
            "marker": {
             "colorbar": {
              "outlinewidth": 0,
              "ticks": ""
             }
            },
            "type": "scatter"
           }
          ],
          "scatter3d": [
           {
            "line": {
             "colorbar": {
              "outlinewidth": 0,
              "ticks": ""
             }
            },
            "marker": {
             "colorbar": {
              "outlinewidth": 0,
              "ticks": ""
             }
            },
            "type": "scatter3d"
           }
          ],
          "scattercarpet": [
           {
            "marker": {
             "colorbar": {
              "outlinewidth": 0,
              "ticks": ""
             }
            },
            "type": "scattercarpet"
           }
          ],
          "scattergeo": [
           {
            "marker": {
             "colorbar": {
              "outlinewidth": 0,
              "ticks": ""
             }
            },
            "type": "scattergeo"
           }
          ],
          "scattergl": [
           {
            "marker": {
             "colorbar": {
              "outlinewidth": 0,
              "ticks": ""
             }
            },
            "type": "scattergl"
           }
          ],
          "scattermapbox": [
           {
            "marker": {
             "colorbar": {
              "outlinewidth": 0,
              "ticks": ""
             }
            },
            "type": "scattermapbox"
           }
          ],
          "scatterpolar": [
           {
            "marker": {
             "colorbar": {
              "outlinewidth": 0,
              "ticks": ""
             }
            },
            "type": "scatterpolar"
           }
          ],
          "scatterpolargl": [
           {
            "marker": {
             "colorbar": {
              "outlinewidth": 0,
              "ticks": ""
             }
            },
            "type": "scatterpolargl"
           }
          ],
          "scatterternary": [
           {
            "marker": {
             "colorbar": {
              "outlinewidth": 0,
              "ticks": ""
             }
            },
            "type": "scatterternary"
           }
          ],
          "surface": [
           {
            "colorbar": {
             "outlinewidth": 0,
             "ticks": ""
            },
            "colorscale": [
             [
              0,
              "#0d0887"
             ],
             [
              0.1111111111111111,
              "#46039f"
             ],
             [
              0.2222222222222222,
              "#7201a8"
             ],
             [
              0.3333333333333333,
              "#9c179e"
             ],
             [
              0.4444444444444444,
              "#bd3786"
             ],
             [
              0.5555555555555556,
              "#d8576b"
             ],
             [
              0.6666666666666666,
              "#ed7953"
             ],
             [
              0.7777777777777778,
              "#fb9f3a"
             ],
             [
              0.8888888888888888,
              "#fdca26"
             ],
             [
              1,
              "#f0f921"
             ]
            ],
            "type": "surface"
           }
          ],
          "table": [
           {
            "cells": {
             "fill": {
              "color": "#EBF0F8"
             },
             "line": {
              "color": "white"
             }
            },
            "header": {
             "fill": {
              "color": "#C8D4E3"
             },
             "line": {
              "color": "white"
             }
            },
            "type": "table"
           }
          ]
         },
         "layout": {
          "annotationdefaults": {
           "arrowcolor": "#2a3f5f",
           "arrowhead": 0,
           "arrowwidth": 1
          },
          "coloraxis": {
           "colorbar": {
            "outlinewidth": 0,
            "ticks": ""
           }
          },
          "colorscale": {
           "diverging": [
            [
             0,
             "#8e0152"
            ],
            [
             0.1,
             "#c51b7d"
            ],
            [
             0.2,
             "#de77ae"
            ],
            [
             0.3,
             "#f1b6da"
            ],
            [
             0.4,
             "#fde0ef"
            ],
            [
             0.5,
             "#f7f7f7"
            ],
            [
             0.6,
             "#e6f5d0"
            ],
            [
             0.7,
             "#b8e186"
            ],
            [
             0.8,
             "#7fbc41"
            ],
            [
             0.9,
             "#4d9221"
            ],
            [
             1,
             "#276419"
            ]
           ],
           "sequential": [
            [
             0,
             "#0d0887"
            ],
            [
             0.1111111111111111,
             "#46039f"
            ],
            [
             0.2222222222222222,
             "#7201a8"
            ],
            [
             0.3333333333333333,
             "#9c179e"
            ],
            [
             0.4444444444444444,
             "#bd3786"
            ],
            [
             0.5555555555555556,
             "#d8576b"
            ],
            [
             0.6666666666666666,
             "#ed7953"
            ],
            [
             0.7777777777777778,
             "#fb9f3a"
            ],
            [
             0.8888888888888888,
             "#fdca26"
            ],
            [
             1,
             "#f0f921"
            ]
           ],
           "sequentialminus": [
            [
             0,
             "#0d0887"
            ],
            [
             0.1111111111111111,
             "#46039f"
            ],
            [
             0.2222222222222222,
             "#7201a8"
            ],
            [
             0.3333333333333333,
             "#9c179e"
            ],
            [
             0.4444444444444444,
             "#bd3786"
            ],
            [
             0.5555555555555556,
             "#d8576b"
            ],
            [
             0.6666666666666666,
             "#ed7953"
            ],
            [
             0.7777777777777778,
             "#fb9f3a"
            ],
            [
             0.8888888888888888,
             "#fdca26"
            ],
            [
             1,
             "#f0f921"
            ]
           ]
          },
          "colorway": [
           "#636efa",
           "#EF553B",
           "#00cc96",
           "#ab63fa",
           "#FFA15A",
           "#19d3f3",
           "#FF6692",
           "#B6E880",
           "#FF97FF",
           "#FECB52"
          ],
          "font": {
           "color": "#2a3f5f"
          },
          "geo": {
           "bgcolor": "white",
           "lakecolor": "white",
           "landcolor": "#E5ECF6",
           "showlakes": true,
           "showland": true,
           "subunitcolor": "white"
          },
          "hoverlabel": {
           "align": "left"
          },
          "hovermode": "closest",
          "mapbox": {
           "style": "light"
          },
          "paper_bgcolor": "white",
          "plot_bgcolor": "#E5ECF6",
          "polar": {
           "angularaxis": {
            "gridcolor": "white",
            "linecolor": "white",
            "ticks": ""
           },
           "bgcolor": "#E5ECF6",
           "radialaxis": {
            "gridcolor": "white",
            "linecolor": "white",
            "ticks": ""
           }
          },
          "scene": {
           "xaxis": {
            "backgroundcolor": "#E5ECF6",
            "gridcolor": "white",
            "gridwidth": 2,
            "linecolor": "white",
            "showbackground": true,
            "ticks": "",
            "zerolinecolor": "white"
           },
           "yaxis": {
            "backgroundcolor": "#E5ECF6",
            "gridcolor": "white",
            "gridwidth": 2,
            "linecolor": "white",
            "showbackground": true,
            "ticks": "",
            "zerolinecolor": "white"
           },
           "zaxis": {
            "backgroundcolor": "#E5ECF6",
            "gridcolor": "white",
            "gridwidth": 2,
            "linecolor": "white",
            "showbackground": true,
            "ticks": "",
            "zerolinecolor": "white"
           }
          },
          "shapedefaults": {
           "line": {
            "color": "#2a3f5f"
           }
          },
          "ternary": {
           "aaxis": {
            "gridcolor": "white",
            "linecolor": "white",
            "ticks": ""
           },
           "baxis": {
            "gridcolor": "white",
            "linecolor": "white",
            "ticks": ""
           },
           "bgcolor": "#E5ECF6",
           "caxis": {
            "gridcolor": "white",
            "linecolor": "white",
            "ticks": ""
           }
          },
          "title": {
           "x": 0.05
          },
          "xaxis": {
           "automargin": true,
           "gridcolor": "white",
           "linecolor": "white",
           "ticks": "",
           "title": {
            "standoff": 15
           },
           "zerolinecolor": "white",
           "zerolinewidth": 2
          },
          "yaxis": {
           "automargin": true,
           "gridcolor": "white",
           "linecolor": "white",
           "ticks": "",
           "title": {
            "standoff": 15
           },
           "zerolinecolor": "white",
           "zerolinewidth": 2
          }
         }
        },
        "xaxis": {
         "anchor": "y",
         "domain": [
          0,
          0.45
         ]
        },
        "xaxis2": {
         "anchor": "y2",
         "domain": [
          0.55,
          1
         ]
        },
        "xaxis3": {
         "anchor": "y3",
         "domain": [
          0,
          0.45
         ]
        },
        "xaxis4": {
         "anchor": "y4",
         "domain": [
          0.55,
          1
         ]
        },
        "yaxis": {
         "anchor": "x",
         "domain": [
          0.575,
          1
         ]
        },
        "yaxis2": {
         "anchor": "x2",
         "domain": [
          0.575,
          1
         ]
        },
        "yaxis3": {
         "anchor": "x3",
         "domain": [
          0,
          0.425
         ]
        },
        "yaxis4": {
         "anchor": "x4",
         "domain": [
          0,
          0.425
         ]
        }
       }
      },
      "text/html": [
       "<div>                            <div id=\"44715097-6743-48ad-b1fb-4ec365d7a2e3\" class=\"plotly-graph-div\" style=\"height:525px; width:100%;\"></div>            <script type=\"text/javascript\">                require([\"plotly\"], function(Plotly) {                    window.PLOTLYENV=window.PLOTLYENV || {};                                    if (document.getElementById(\"44715097-6743-48ad-b1fb-4ec365d7a2e3\")) {                    Plotly.newPlot(                        \"44715097-6743-48ad-b1fb-4ec365d7a2e3\",                        [{\"marker\": {\"line\": {\"width\": 2}, \"size\": 6}, \"mode\": \"markers\", \"name\": \"2017 predictions\", \"type\": \"scatter\", \"x\": [287300, 404400, 349500, 436900, 386500, 217300, 423900, 198800, 362700, 352600, 420500, 630400, 674500, 667300, 1087800, 1120200, 909900, 781700, 663000, 1201100, 504700, 467000, 393000, 830400, 571000, 762300, 820200, 1092200, 789600, 440900, 435200, 512400, 440200, 613700, 762000, 768500, 793500, 705200, 562900, 723300, 465800, 660000, 471800, 586000, 627800, 437500, 529700, 506500, 368700, 527700, 577100, 458500, 406200, 457300, 453400], \"xaxis\": \"x\", \"y\": [329412.60055648, 378433.2055908253, 303428.4033994167, 433992.61168760294, 418603.86544813076, 246426.07977160998, 314496.8318031647, 269428.859919196, 352700.49135721754, 427810.0024374949, 435790.57145716995, 610250.4994393364, 703538.7572682791, 630808.5400622413, 1039572.2812840242, 918629.888174101, 879616.3141567537, 860394.3165311043, 580869.9553619926, 1103642.2549609917, 506089.3371475949, 475444.85102176806, 373577.5889100181, 846724.9897572845, 525833.17086796, 654159.0600973028, 868971.6835817073, 987640.3047207093, 657101.2287038495, 430383.7311674615, 449022.5449197921, 525416.7603426029, 426532.4898161236, 603024.4350080804, 674554.0728743321, 562269.3615726742, 713672.007319039, 619882.7818609523, 531293.3303150071, 680949.0631632574, 465527.25260696956, 654348.7212984995, 308149.1481232953, 570638.807604043, 563602.8943392639, 435038.12085526576, 489283.0793628511, 451685.5103696664, 380000.928290423, 542604.1921531842, 532005.6181709855, 496177.2031949763, 415706.7905135739, 412040.24467243976, 415990.5689722474], \"yaxis\": \"y\"}, {\"line\": {\"color\": \"gray\"}, \"marker\": {\"line\": {\"width\": 2}, \"size\": 6}, \"mode\": \"lines\", \"showlegend\": false, \"type\": \"scatter\", \"x\": [0, 1251100], \"xaxis\": \"x\", \"y\": [0, 1251100], \"yaxis\": \"y\"}],                        {\"annotations\": [{\"arrowhead\": 3, \"ax\": 30, \"ay\": 30, \"text\": \"R squared score of 0.9051000011681749\", \"x\": 0.65, \"xref\": \"x domain\", \"y\": 0.4, \"yref\": \"y domain\"}], \"template\": {\"data\": {\"bar\": [{\"error_x\": {\"color\": \"#2a3f5f\"}, \"error_y\": {\"color\": \"#2a3f5f\"}, \"marker\": {\"line\": {\"color\": \"#E5ECF6\", \"width\": 0.5}}, \"type\": \"bar\"}], \"barpolar\": [{\"marker\": {\"line\": {\"color\": \"#E5ECF6\", \"width\": 0.5}}, \"type\": \"barpolar\"}], \"carpet\": [{\"aaxis\": {\"endlinecolor\": \"#2a3f5f\", \"gridcolor\": \"white\", \"linecolor\": \"white\", \"minorgridcolor\": \"white\", \"startlinecolor\": \"#2a3f5f\"}, \"baxis\": {\"endlinecolor\": \"#2a3f5f\", \"gridcolor\": \"white\", \"linecolor\": \"white\", \"minorgridcolor\": \"white\", \"startlinecolor\": \"#2a3f5f\"}, \"type\": \"carpet\"}], \"choropleth\": [{\"colorbar\": {\"outlinewidth\": 0, \"ticks\": \"\"}, \"type\": \"choropleth\"}], \"contour\": [{\"colorbar\": {\"outlinewidth\": 0, \"ticks\": \"\"}, \"colorscale\": [[0.0, \"#0d0887\"], [0.1111111111111111, \"#46039f\"], [0.2222222222222222, \"#7201a8\"], [0.3333333333333333, \"#9c179e\"], [0.4444444444444444, \"#bd3786\"], [0.5555555555555556, \"#d8576b\"], [0.6666666666666666, \"#ed7953\"], [0.7777777777777778, \"#fb9f3a\"], [0.8888888888888888, \"#fdca26\"], [1.0, \"#f0f921\"]], \"type\": \"contour\"}], \"contourcarpet\": [{\"colorbar\": {\"outlinewidth\": 0, \"ticks\": \"\"}, \"type\": \"contourcarpet\"}], \"heatmap\": [{\"colorbar\": {\"outlinewidth\": 0, \"ticks\": \"\"}, \"colorscale\": [[0.0, \"#0d0887\"], [0.1111111111111111, \"#46039f\"], [0.2222222222222222, \"#7201a8\"], [0.3333333333333333, \"#9c179e\"], [0.4444444444444444, \"#bd3786\"], [0.5555555555555556, \"#d8576b\"], [0.6666666666666666, \"#ed7953\"], [0.7777777777777778, \"#fb9f3a\"], [0.8888888888888888, \"#fdca26\"], [1.0, \"#f0f921\"]], \"type\": \"heatmap\"}], \"heatmapgl\": [{\"colorbar\": {\"outlinewidth\": 0, \"ticks\": \"\"}, \"colorscale\": [[0.0, \"#0d0887\"], [0.1111111111111111, \"#46039f\"], [0.2222222222222222, \"#7201a8\"], [0.3333333333333333, \"#9c179e\"], [0.4444444444444444, \"#bd3786\"], [0.5555555555555556, \"#d8576b\"], [0.6666666666666666, \"#ed7953\"], [0.7777777777777778, \"#fb9f3a\"], [0.8888888888888888, \"#fdca26\"], [1.0, \"#f0f921\"]], \"type\": \"heatmapgl\"}], \"histogram\": [{\"marker\": {\"colorbar\": {\"outlinewidth\": 0, \"ticks\": \"\"}}, \"type\": \"histogram\"}], \"histogram2d\": [{\"colorbar\": {\"outlinewidth\": 0, \"ticks\": \"\"}, \"colorscale\": [[0.0, \"#0d0887\"], [0.1111111111111111, \"#46039f\"], [0.2222222222222222, \"#7201a8\"], [0.3333333333333333, \"#9c179e\"], [0.4444444444444444, \"#bd3786\"], [0.5555555555555556, \"#d8576b\"], [0.6666666666666666, \"#ed7953\"], [0.7777777777777778, \"#fb9f3a\"], [0.8888888888888888, \"#fdca26\"], [1.0, \"#f0f921\"]], \"type\": \"histogram2d\"}], \"histogram2dcontour\": [{\"colorbar\": {\"outlinewidth\": 0, \"ticks\": \"\"}, \"colorscale\": [[0.0, \"#0d0887\"], [0.1111111111111111, \"#46039f\"], [0.2222222222222222, \"#7201a8\"], [0.3333333333333333, \"#9c179e\"], [0.4444444444444444, \"#bd3786\"], [0.5555555555555556, \"#d8576b\"], [0.6666666666666666, \"#ed7953\"], [0.7777777777777778, \"#fb9f3a\"], [0.8888888888888888, \"#fdca26\"], [1.0, \"#f0f921\"]], \"type\": \"histogram2dcontour\"}], \"mesh3d\": [{\"colorbar\": {\"outlinewidth\": 0, \"ticks\": \"\"}, \"type\": \"mesh3d\"}], \"parcoords\": [{\"line\": {\"colorbar\": {\"outlinewidth\": 0, \"ticks\": \"\"}}, \"type\": \"parcoords\"}], \"pie\": [{\"automargin\": true, \"type\": \"pie\"}], \"scatter\": [{\"marker\": {\"colorbar\": {\"outlinewidth\": 0, \"ticks\": \"\"}}, \"type\": \"scatter\"}], \"scatter3d\": [{\"line\": {\"colorbar\": {\"outlinewidth\": 0, \"ticks\": \"\"}}, \"marker\": {\"colorbar\": {\"outlinewidth\": 0, \"ticks\": \"\"}}, \"type\": \"scatter3d\"}], \"scattercarpet\": [{\"marker\": {\"colorbar\": {\"outlinewidth\": 0, \"ticks\": \"\"}}, \"type\": \"scattercarpet\"}], \"scattergeo\": [{\"marker\": {\"colorbar\": {\"outlinewidth\": 0, \"ticks\": \"\"}}, \"type\": \"scattergeo\"}], \"scattergl\": [{\"marker\": {\"colorbar\": {\"outlinewidth\": 0, \"ticks\": \"\"}}, \"type\": \"scattergl\"}], \"scattermapbox\": [{\"marker\": {\"colorbar\": {\"outlinewidth\": 0, \"ticks\": \"\"}}, \"type\": \"scattermapbox\"}], \"scatterpolar\": [{\"marker\": {\"colorbar\": {\"outlinewidth\": 0, \"ticks\": \"\"}}, \"type\": \"scatterpolar\"}], \"scatterpolargl\": [{\"marker\": {\"colorbar\": {\"outlinewidth\": 0, \"ticks\": \"\"}}, \"type\": \"scatterpolargl\"}], \"scatterternary\": [{\"marker\": {\"colorbar\": {\"outlinewidth\": 0, \"ticks\": \"\"}}, \"type\": \"scatterternary\"}], \"surface\": [{\"colorbar\": {\"outlinewidth\": 0, \"ticks\": \"\"}, \"colorscale\": [[0.0, \"#0d0887\"], [0.1111111111111111, \"#46039f\"], [0.2222222222222222, \"#7201a8\"], [0.3333333333333333, \"#9c179e\"], [0.4444444444444444, \"#bd3786\"], [0.5555555555555556, \"#d8576b\"], [0.6666666666666666, \"#ed7953\"], [0.7777777777777778, \"#fb9f3a\"], [0.8888888888888888, \"#fdca26\"], [1.0, \"#f0f921\"]], \"type\": \"surface\"}], \"table\": [{\"cells\": {\"fill\": {\"color\": \"#EBF0F8\"}, \"line\": {\"color\": \"white\"}}, \"header\": {\"fill\": {\"color\": \"#C8D4E3\"}, \"line\": {\"color\": \"white\"}}, \"type\": \"table\"}]}, \"layout\": {\"annotationdefaults\": {\"arrowcolor\": \"#2a3f5f\", \"arrowhead\": 0, \"arrowwidth\": 1}, \"coloraxis\": {\"colorbar\": {\"outlinewidth\": 0, \"ticks\": \"\"}}, \"colorscale\": {\"diverging\": [[0, \"#8e0152\"], [0.1, \"#c51b7d\"], [0.2, \"#de77ae\"], [0.3, \"#f1b6da\"], [0.4, \"#fde0ef\"], [0.5, \"#f7f7f7\"], [0.6, \"#e6f5d0\"], [0.7, \"#b8e186\"], [0.8, \"#7fbc41\"], [0.9, \"#4d9221\"], [1, \"#276419\"]], \"sequential\": [[0.0, \"#0d0887\"], [0.1111111111111111, \"#46039f\"], [0.2222222222222222, \"#7201a8\"], [0.3333333333333333, \"#9c179e\"], [0.4444444444444444, \"#bd3786\"], [0.5555555555555556, \"#d8576b\"], [0.6666666666666666, \"#ed7953\"], [0.7777777777777778, \"#fb9f3a\"], [0.8888888888888888, \"#fdca26\"], [1.0, \"#f0f921\"]], \"sequentialminus\": [[0.0, \"#0d0887\"], [0.1111111111111111, \"#46039f\"], [0.2222222222222222, \"#7201a8\"], [0.3333333333333333, \"#9c179e\"], [0.4444444444444444, \"#bd3786\"], [0.5555555555555556, \"#d8576b\"], [0.6666666666666666, \"#ed7953\"], [0.7777777777777778, \"#fb9f3a\"], [0.8888888888888888, \"#fdca26\"], [1.0, \"#f0f921\"]]}, \"colorway\": [\"#636efa\", \"#EF553B\", \"#00cc96\", \"#ab63fa\", \"#FFA15A\", \"#19d3f3\", \"#FF6692\", \"#B6E880\", \"#FF97FF\", \"#FECB52\"], \"font\": {\"color\": \"#2a3f5f\"}, \"geo\": {\"bgcolor\": \"white\", \"lakecolor\": \"white\", \"landcolor\": \"#E5ECF6\", \"showlakes\": true, \"showland\": true, \"subunitcolor\": \"white\"}, \"hoverlabel\": {\"align\": \"left\"}, \"hovermode\": \"closest\", \"mapbox\": {\"style\": \"light\"}, \"paper_bgcolor\": \"white\", \"plot_bgcolor\": \"#E5ECF6\", \"polar\": {\"angularaxis\": {\"gridcolor\": \"white\", \"linecolor\": \"white\", \"ticks\": \"\"}, \"bgcolor\": \"#E5ECF6\", \"radialaxis\": {\"gridcolor\": \"white\", \"linecolor\": \"white\", \"ticks\": \"\"}}, \"scene\": {\"xaxis\": {\"backgroundcolor\": \"#E5ECF6\", \"gridcolor\": \"white\", \"gridwidth\": 2, \"linecolor\": \"white\", \"showbackground\": true, \"ticks\": \"\", \"zerolinecolor\": \"white\"}, \"yaxis\": {\"backgroundcolor\": \"#E5ECF6\", \"gridcolor\": \"white\", \"gridwidth\": 2, \"linecolor\": \"white\", \"showbackground\": true, \"ticks\": \"\", \"zerolinecolor\": \"white\"}, \"zaxis\": {\"backgroundcolor\": \"#E5ECF6\", \"gridcolor\": \"white\", \"gridwidth\": 2, \"linecolor\": \"white\", \"showbackground\": true, \"ticks\": \"\", \"zerolinecolor\": \"white\"}}, \"shapedefaults\": {\"line\": {\"color\": \"#2a3f5f\"}}, \"ternary\": {\"aaxis\": {\"gridcolor\": \"white\", \"linecolor\": \"white\", \"ticks\": \"\"}, \"baxis\": {\"gridcolor\": \"white\", \"linecolor\": \"white\", \"ticks\": \"\"}, \"bgcolor\": \"#E5ECF6\", \"caxis\": {\"gridcolor\": \"white\", \"linecolor\": \"white\", \"ticks\": \"\"}}, \"title\": {\"x\": 0.05}, \"xaxis\": {\"automargin\": true, \"gridcolor\": \"white\", \"linecolor\": \"white\", \"ticks\": \"\", \"title\": {\"standoff\": 15}, \"zerolinecolor\": \"white\", \"zerolinewidth\": 2}, \"yaxis\": {\"automargin\": true, \"gridcolor\": \"white\", \"linecolor\": \"white\", \"ticks\": \"\", \"title\": {\"standoff\": 15}, \"zerolinecolor\": \"white\", \"zerolinewidth\": 2}}}, \"xaxis\": {\"anchor\": \"y\", \"domain\": [0.0, 0.45]}, \"xaxis2\": {\"anchor\": \"y2\", \"domain\": [0.55, 1.0]}, \"xaxis3\": {\"anchor\": \"y3\", \"domain\": [0.0, 0.45]}, \"xaxis4\": {\"anchor\": \"y4\", \"domain\": [0.55, 1.0]}, \"yaxis\": {\"anchor\": \"x\", \"domain\": [0.575, 1.0]}, \"yaxis2\": {\"anchor\": \"x2\", \"domain\": [0.575, 1.0]}, \"yaxis3\": {\"anchor\": \"x3\", \"domain\": [0.0, 0.425]}, \"yaxis4\": {\"anchor\": \"x4\", \"domain\": [0.0, 0.425]}},                        {\"responsive\": true}                    ).then(function(){\n",
       "                            \n",
       "var gd = document.getElementById('44715097-6743-48ad-b1fb-4ec365d7a2e3');\n",
       "var x = new MutationObserver(function (mutations, observer) {{\n",
       "        var display = window.getComputedStyle(gd).display;\n",
       "        if (!display || display === 'none') {{\n",
       "            console.log([gd, 'removed!']);\n",
       "            Plotly.purge(gd);\n",
       "            observer.disconnect();\n",
       "        }}\n",
       "}});\n",
       "\n",
       "// Listen for the removal of the full notebook cells\n",
       "var notebookContainer = gd.closest('#notebook-container');\n",
       "if (notebookContainer) {{\n",
       "    x.observe(notebookContainer, {childList: true});\n",
       "}}\n",
       "\n",
       "// Listen for the clearing of the current output cell\n",
       "var outputEl = gd.closest('.output');\n",
       "if (outputEl) {{\n",
       "    x.observe(outputEl, {childList: true});\n",
       "}}\n",
       "\n",
       "                        })                };                });            </script>        </div>"
      ]
     },
     "metadata": {},
     "output_type": "display_data"
    }
   ],
   "source": [
    "from plotly.subplots import make_subplots\n",
    "import plotly.express as px\n",
    "import math\n",
    "import numpy as np\n",
    "import plotly.graph_objects as go\n",
    "prediction_yr = predictions_dict[2017]\n",
    "fig = make_subplots(rows=2, cols=2)\n",
    "fig.add_trace(\n",
    "    go.Scatter(x=prediction_yr[1], y= prediction_yr[0], mode = 'markers', name = '2017 predictions'),\n",
    "    row=1, col=1\n",
    ")\n",
    "end_point= math.ceil(prediction_yr[1].max()+50000) \n",
    "reference_line = go.Line(x=[0, end_point ],\n",
    "                            y=[0, end_point ],\n",
    "                            mode=\"lines\",\n",
    "                            line=go.scatter.Line(color=\"gray\"),\n",
    "                            showlegend=False)\n",
    "fig.add_trace(reference_line, row=1, col=1)\n",
    "fig.update_traces( marker_line_width=2, marker_size=6)\n",
    "fig.add_annotation(\n",
    "    xref=\"x domain\",\n",
    "    yref=\"y domain\",\n",
    "    # The arrow head will be 25% along the x axis, starting from the left\n",
    "    x=0.65,\n",
    "    # The arrow head will be 40% along the y axis, starting from the bottom\n",
    "    y=0.4,\n",
    "    text=\"R squared score of \" + str(r2_score(prediction_yr[1], prediction_yr[0])),\n",
    "    arrowhead=3,\n",
    "    ax=30,\n",
    "    ay=30,\n",
    ")\n"
   ]
  },
  {
   "cell_type": "markdown",
   "metadata": {
    "id": "ql_KAEqTtiBs"
   },
   "source": [
    "**4.2 Method 2**\n",
    "\n",
    "#### Q: What assumptions need to be verified at this step?\n",
    "#### A: (answer here)\n",
    "#### Q: What algorithm did you choose?\n",
    "#### A: (answer here)\n",
    "#### Q: Why you choose this algorithm?\n",
    "#### A: (answer here)\n",
    "#### Q: What metric can measure the quality of your algorithm?\n",
    "#### A: (answer here)\n",
    "#### Q: What is the outcome?\n",
    "#### A: (answer here)\n",
    "#### Q: Analysis and discussion:\n",
    "#### A: (answer here)"
   ]
  },
  {
   "cell_type": "code",
   "execution_count": null,
   "metadata": {
    "id": "-IsCYINhtwQO"
   },
   "outputs": [],
   "source": [
    "# code for modeling"
   ]
  },
  {
   "cell_type": "code",
   "execution_count": null,
   "metadata": {
    "id": "3jC-KRd-t1ti"
   },
   "outputs": [],
   "source": [
    "# code for visualization the outcome"
   ]
  },
  {
   "cell_type": "markdown",
   "metadata": {
    "id": "HMl3vOCRtljB"
   },
   "source": [
    "**4.3 Method 3**\n",
    "\n",
    "#### Q: What assumptions need to be verified at this step?\n",
    "#### A: (answer here)\n",
    "#### Q: What algorithm did you choose?\n",
    "#### A: (answer here)\n",
    "#### Q: Why you choose this algorithm?\n",
    "#### A: (answer here)\n",
    "#### Q: What metric can measure the quality of your algorithm?\n",
    "#### A: (answer here)\n",
    "#### Q: What is the outcome?\n",
    "#### A: (answer here)\n",
    "#### Q: Analysis and discussion:\n",
    "#### A: (answer here)"
   ]
  },
  {
   "cell_type": "code",
   "execution_count": null,
   "metadata": {
    "id": "zIGftMSUtxD1"
   },
   "outputs": [],
   "source": [
    "# code for modeling"
   ]
  },
  {
   "cell_type": "code",
   "execution_count": null,
   "metadata": {
    "id": "aPAZJ6Mzt2nH"
   },
   "outputs": [],
   "source": [
    "# code for visualization the outcome"
   ]
  },
  {
   "cell_type": "markdown",
   "metadata": {
    "id": "7ko5-Ppdto57"
   },
   "source": [
    "**4.4 Method 4**\n",
    "\n",
    "#### Q: What assumptions need to be verified at this step?\n",
    "#### A: (answer here)\n",
    "#### Q: What algorithm did you choose?\n",
    "#### A: (answer here)\n",
    "#### Q: Why you choose this algorithm?\n",
    "#### A: (answer here)\n",
    "#### Q: What metric can measure the quality of your algorithm?\n",
    "#### A: (answer here)\n",
    "#### Q: What is the outcome?\n",
    "#### A: (answer here)\n",
    "#### Q: Analysis and discussion:\n",
    "#### A: (answer here)"
   ]
  },
  {
   "cell_type": "code",
   "execution_count": null,
   "metadata": {
    "id": "hsVqVTXKtx59"
   },
   "outputs": [],
   "source": [
    "# code for modeling"
   ]
  },
  {
   "cell_type": "code",
   "execution_count": null,
   "metadata": {
    "id": "6ETWy7Smt3gv"
   },
   "outputs": [],
   "source": [
    "# code for visualization the outcome"
   ]
  },
  {
   "cell_type": "markdown",
   "metadata": {
    "id": "CxWwTh_HtroT"
   },
   "source": [
    "**4.5 Method 5**\n",
    "\n",
    "#### Q: What assumptions need to be verified at this step?\n",
    "#### A: (answer here)\n",
    "#### Q: What algorithm did you choose?\n",
    "#### A: (answer here)\n",
    "#### Q: Why you choose this algorithm?\n",
    "#### A: (answer here)\n",
    "#### Q: What metric can measure the quality of your algorithm?\n",
    "#### A: (answer here)\n",
    "#### Q: What is the outcome?\n",
    "#### A: (answer here)\n",
    "#### Q: Analysis and discussion:\n",
    "#### A: (answer here)"
   ]
  },
  {
   "cell_type": "code",
   "execution_count": null,
   "metadata": {
    "id": "8zGSWLS_tyvl"
   },
   "outputs": [],
   "source": [
    "# code for modeling"
   ]
  },
  {
   "cell_type": "code",
   "execution_count": null,
   "metadata": {
    "id": "-reZJ0Odt4dz"
   },
   "outputs": [],
   "source": [
    "# code for visualization the outcome"
   ]
  },
  {
   "cell_type": "markdown",
   "metadata": {
    "id": "DgimEClb0zWP"
   },
   "source": [
    "#### 5 Each person contribution\n",
    "(for example, person 1 implemented first algorithm and person 2 helped to analysis the first algorithm ....) "
   ]
  },
  {
   "cell_type": "markdown",
   "metadata": {
    "id": "YYeRORfhuYIu"
   },
   "source": [
    "#### 6 Example\n",
    "\n",
    "#### Q: What assumptions need to be verified at this step?\n",
    "#### A: A Hospital Care chain wants to open a series of Emergency-Care wards within a region. We assume that the hospital knows the location of all the maximum accident-prone areas in the region. They have to decide the number of the Emergency Units to be opened and the location of these Emergency Units, so that all the accident-prone areas are covered in the vicinity of these Emergency Units. We want to help to decide the location of these Emergency Units so that the whole region is covered.\n",
    "#### Q: What algorithm did you choose?\n",
    "#### A: k-means\n",
    "#### Q: Why you choose this algorithm?\n",
    "#### A: After observing the data, we don't know how many locations there are, and we don't have labelled ground truth data. So we need a clustering algorithm. Kmeans clustering is one of the most popular clustering algorithms and usually the first thing practitioners apply when solving clustering tasks to get an idea of the structure of the dataset. Therefore, we choose k-means algorithm. **I already have completed PCA to map my data to 2 dimension for k-means algorithm.**\n",
    "#### Q: What metric can measure the quality of your algorithm?\n",
    "#### A: I would use Percentage of Variance Explained (PVE) to evaluate clustering algorithm.\n",
    "#### Q: What is the outcome?\n",
    "#### A: I divided my data into train dataset (contains 90% of data) and test dataset (contains 10% of data). I used the test data to evaluate the outcome of k-means algorithm. In the cluster-predict methodology, we can evaluate how well the models are performing based on different K clusters since clusters are used in the downstream modeling. I will use Elbow method and Silhouette analysis for evaluation.\n",
    "+ Elbow method:\n",
    "We use elbow method to check the k we choose.\n",
    "The following figure shows the result: ...\n",
    "+ Silhouette analysis: ...\n",
    "\n",
    "#### Q: Analysis and discussion:\n",
    "#### A: Accoridng the visualization of clustered data, we could conclude the location of these Emergency Units, which shows in the following image. ......"
   ]
  },
  {
   "cell_type": "markdown",
   "metadata": {
    "id": "eaDWN21SvpXc"
   },
   "source": [
    "### Submission guideline:\n",
    "1. write your code and report in this notebook. \n",
    "2. save this notebook as <person1ubname_person2ubname.ipynb>.\n",
    "3. save your raw data in data folder.\n",
    "4. save the notebook file with data folder in a folder named <person1ubname_person2ubname.zip>. \n",
    "5. upload your zip file to the ub learns.\n",
    "\n",
    "**Each person from a team needs to make submissions.**"
   ]
  },
  {
   "cell_type": "markdown",
   "metadata": {
    "id": "EKhTnH90vyGU"
   },
   "source": [
    "### Grading:\n",
    "    0 – no submission by deadline;\n",
    "    5 – complete 1 algorithm with complete analysis and discussion;\n",
    "    10 – complete 2-3 algorithms with complete analysis and discussion;\n",
    "    15 – complete 4 algorithms with complete analysis and discussion;\n",
    "    20 - complete 5 algorithms with complete analysis and discussion, however, the report is the best when compared with other teams;\n",
    "    25 - the whole process is prefect;\n",
    "    \n",
    "The submission deadline is **March 21 on 11:59:00 PM**. (Note 11:59:01 PM will be counted as late submission). Once the deadline is past, you get a zero for the phase if you did not submit anything, even though you need to complete the phase to work on the next phase.\n"
   ]
  }
 ],
 "metadata": {
  "colab": {
   "collapsed_sections": [],
   "name": "phase2.ipynb",
   "provenance": [],
   "toc_visible": true
  },
  "kernelspec": {
   "display_name": "Python 3",
   "language": "python",
   "name": "python3"
  },
  "language_info": {
   "codemirror_mode": {
    "name": "ipython",
    "version": 3
   },
   "file_extension": ".py",
   "mimetype": "text/x-python",
   "name": "python",
   "nbconvert_exporter": "python",
   "pygments_lexer": "ipython3",
   "version": "3.7.7"
  }
 },
 "nbformat": 4,
 "nbformat_minor": 1
}
