{
 "cells": [
  {
   "cell_type": "markdown",
   "metadata": {
    "id": "9FIZCSqVuWSb"
   },
   "source": [
    "## Phase 3"
   ]
  },
  {
   "cell_type": "markdown",
   "metadata": {
    "id": "976IIwdyuhSk"
   },
   "source": [
    "### Header\n",
    "#### Course Name: \n",
    "#### Project name:\n",
    "#### Name of group member:"
   ]
  },
  {
   "cell_type": "markdown",
   "metadata": {
    "id": "WlFNyBSWukkE"
   },
   "source": [
    "### Q Write down the following information: \n",
    "#### 1. Problem Statement: \n",
    "\n"
   ]
  },
  {
   "cell_type": "markdown",
   "metadata": {
    "id": "0GVyBWN0utp5"
   },
   "source": [
    "#### 2. Hypothesis:\n",
    "   + hypothesis 1:  \n",
    "   + hypothesis 2:\n",
    "   + ..."
   ]
  },
  {
   "cell_type": "markdown",
   "metadata": {
    "id": "qufK6cVXuwP1"
   },
   "source": [
    "#### 3 Cleaned Datasets\n",
    "Display the cleaned dataset after phase 1\n"
   ]
  },
  {
   "cell_type": "code",
   "execution_count": 2,
   "metadata": {
    "id": "cY0MZsUmASEn"
   },
   "outputs": [
    {
     "data": {
      "text/html": [
       "<div>\n",
       "<style scoped>\n",
       "    .dataframe tbody tr th:only-of-type {\n",
       "        vertical-align: middle;\n",
       "    }\n",
       "\n",
       "    .dataframe tbody tr th {\n",
       "        vertical-align: top;\n",
       "    }\n",
       "\n",
       "    .dataframe thead th {\n",
       "        text-align: right;\n",
       "    }\n",
       "</style>\n",
       "<table border=\"1\" class=\"dataframe\">\n",
       "  <thead>\n",
       "    <tr style=\"text-align: right;\">\n",
       "      <th></th>\n",
       "      <th>puma</th>\n",
       "      <th>year</th>\n",
       "      <th>mergeid</th>\n",
       "      <th>estimate_black_females</th>\n",
       "      <th>estimate_total_pop</th>\n",
       "      <th>percent_black_only</th>\n",
       "      <th>percent_black_women</th>\n",
       "      <th>quantile_black_women</th>\n",
       "      <th>gini_index</th>\n",
       "      <th>percent_second_mortgage</th>\n",
       "      <th>...</th>\n",
       "      <th>disability_status</th>\n",
       "      <th>total_housing_units</th>\n",
       "      <th>num_renter_occupied</th>\n",
       "      <th>num_owner_occupied</th>\n",
       "      <th>num_total_occupied</th>\n",
       "      <th>percent_born_us</th>\n",
       "      <th>english_prof</th>\n",
       "      <th>percent_college</th>\n",
       "      <th>percent_uninsured</th>\n",
       "      <th>percent_unemployed</th>\n",
       "    </tr>\n",
       "  </thead>\n",
       "  <tbody>\n",
       "    <tr>\n",
       "      <th>0</th>\n",
       "      <td>3603701</td>\n",
       "      <td>2011</td>\n",
       "      <td>3603701 _ 2011</td>\n",
       "      <td>8349</td>\n",
       "      <td>106558</td>\n",
       "      <td>14.3</td>\n",
       "      <td>7.835170</td>\n",
       "      <td>3</td>\n",
       "      <td>0.4852</td>\n",
       "      <td>14.0</td>\n",
       "      <td>...</td>\n",
       "      <td>14.349000</td>\n",
       "      <td>45433</td>\n",
       "      <td>28757</td>\n",
       "      <td>12714</td>\n",
       "      <td>41471</td>\n",
       "      <td>62.3</td>\n",
       "      <td>20.3</td>\n",
       "      <td>38.7</td>\n",
       "      <td>11.983000</td>\n",
       "      <td>6.3</td>\n",
       "    </tr>\n",
       "    <tr>\n",
       "      <th>1</th>\n",
       "      <td>3603702</td>\n",
       "      <td>2011</td>\n",
       "      <td>3603702 _ 2011</td>\n",
       "      <td>56929</td>\n",
       "      <td>144403</td>\n",
       "      <td>70.4</td>\n",
       "      <td>39.423696</td>\n",
       "      <td>5</td>\n",
       "      <td>0.4291</td>\n",
       "      <td>14.9</td>\n",
       "      <td>...</td>\n",
       "      <td>11.125000</td>\n",
       "      <td>51321</td>\n",
       "      <td>29678</td>\n",
       "      <td>17780</td>\n",
       "      <td>47458</td>\n",
       "      <td>56.1</td>\n",
       "      <td>7.7</td>\n",
       "      <td>22.1</td>\n",
       "      <td>14.353333</td>\n",
       "      <td>8.5</td>\n",
       "    </tr>\n",
       "    <tr>\n",
       "      <th>2</th>\n",
       "      <td>3603703</td>\n",
       "      <td>2011</td>\n",
       "      <td>3603703 _ 2011</td>\n",
       "      <td>17630</td>\n",
       "      <td>115784</td>\n",
       "      <td>27.2</td>\n",
       "      <td>15.226629</td>\n",
       "      <td>4</td>\n",
       "      <td>0.4293</td>\n",
       "      <td>13.6</td>\n",
       "      <td>...</td>\n",
       "      <td>13.975333</td>\n",
       "      <td>48946</td>\n",
       "      <td>23433</td>\n",
       "      <td>22537</td>\n",
       "      <td>45970</td>\n",
       "      <td>76.3</td>\n",
       "      <td>10.2</td>\n",
       "      <td>24.2</td>\n",
       "      <td>9.534667</td>\n",
       "      <td>5.5</td>\n",
       "    </tr>\n",
       "    <tr>\n",
       "      <th>3</th>\n",
       "      <td>3603704</td>\n",
       "      <td>2011</td>\n",
       "      <td>3603704 _ 2011</td>\n",
       "      <td>15386</td>\n",
       "      <td>125976</td>\n",
       "      <td>23.0</td>\n",
       "      <td>12.213437</td>\n",
       "      <td>3</td>\n",
       "      <td>0.4500</td>\n",
       "      <td>19.0</td>\n",
       "      <td>...</td>\n",
       "      <td>13.169000</td>\n",
       "      <td>47577</td>\n",
       "      <td>31071</td>\n",
       "      <td>13398</td>\n",
       "      <td>44469</td>\n",
       "      <td>58.9</td>\n",
       "      <td>21.2</td>\n",
       "      <td>23.2</td>\n",
       "      <td>13.788667</td>\n",
       "      <td>6.4</td>\n",
       "    </tr>\n",
       "    <tr>\n",
       "      <th>4</th>\n",
       "      <td>3603705</td>\n",
       "      <td>2011</td>\n",
       "      <td>3603705 _ 2011</td>\n",
       "      <td>30973</td>\n",
       "      <td>154386</td>\n",
       "      <td>36.4</td>\n",
       "      <td>20.062052</td>\n",
       "      <td>4</td>\n",
       "      <td>0.4847</td>\n",
       "      <td>12.1</td>\n",
       "      <td>...</td>\n",
       "      <td>14.863333</td>\n",
       "      <td>55842</td>\n",
       "      <td>47237</td>\n",
       "      <td>3850</td>\n",
       "      <td>51087</td>\n",
       "      <td>60.8</td>\n",
       "      <td>28.5</td>\n",
       "      <td>9.7</td>\n",
       "      <td>15.490667</td>\n",
       "      <td>8.4</td>\n",
       "    </tr>\n",
       "  </tbody>\n",
       "</table>\n",
       "<p>5 rows × 44 columns</p>\n",
       "</div>"
      ],
      "text/plain": [
       "      puma  year         mergeid  estimate_black_females  estimate_total_pop  \\\n",
       "0  3603701  2011  3603701 _ 2011                    8349              106558   \n",
       "1  3603702  2011  3603702 _ 2011                   56929              144403   \n",
       "2  3603703  2011  3603703 _ 2011                   17630              115784   \n",
       "3  3603704  2011  3603704 _ 2011                   15386              125976   \n",
       "4  3603705  2011  3603705 _ 2011                   30973              154386   \n",
       "\n",
       "   percent_black_only  percent_black_women  quantile_black_women  gini_index  \\\n",
       "0                14.3             7.835170                     3      0.4852   \n",
       "1                70.4            39.423696                     5      0.4291   \n",
       "2                27.2            15.226629                     4      0.4293   \n",
       "3                23.0            12.213437                     3      0.4500   \n",
       "4                36.4            20.062052                     4      0.4847   \n",
       "\n",
       "   percent_second_mortgage  ...  disability_status  total_housing_units  \\\n",
       "0                     14.0  ...          14.349000                45433   \n",
       "1                     14.9  ...          11.125000                51321   \n",
       "2                     13.6  ...          13.975333                48946   \n",
       "3                     19.0  ...          13.169000                47577   \n",
       "4                     12.1  ...          14.863333                55842   \n",
       "\n",
       "   num_renter_occupied  num_owner_occupied  num_total_occupied  \\\n",
       "0                28757               12714               41471   \n",
       "1                29678               17780               47458   \n",
       "2                23433               22537               45970   \n",
       "3                31071               13398               44469   \n",
       "4                47237                3850               51087   \n",
       "\n",
       "   percent_born_us  english_prof  percent_college  percent_uninsured  \\\n",
       "0             62.3          20.3             38.7          11.983000   \n",
       "1             56.1           7.7             22.1          14.353333   \n",
       "2             76.3          10.2             24.2           9.534667   \n",
       "3             58.9          21.2             23.2          13.788667   \n",
       "4             60.8          28.5              9.7          15.490667   \n",
       "\n",
       "   percent_unemployed  \n",
       "0                 6.3  \n",
       "1                 8.5  \n",
       "2                 5.5  \n",
       "3                 6.4  \n",
       "4                 8.4  \n",
       "\n",
       "[5 rows x 44 columns]"
      ]
     },
     "execution_count": 2,
     "metadata": {},
     "output_type": "execute_result"
    }
   ],
   "source": [
    "# import your cleaned dataset\n",
    "import pandas as pd \n",
    "df = pd.read_csv('data_imputated.csv')\n",
    "df.head(5)\n",
    "# display the first five rows data.head(5)"
   ]
  },
  {
   "cell_type": "code",
   "execution_count": null,
   "metadata": {},
   "outputs": [],
   "source": []
  },
  {
   "cell_type": "markdown",
   "metadata": {
    "id": "pZhUDBoFu58q"
   },
   "source": [
    "#### 4 Modeling  \n",
    "Please take a look at https://scikit-learn.org/stable/. First of all, understand what is the problem of your research such as classification problem, regression problem, clustering problem...... Then choose your algorithm. For each algorithm, you need to answer the following 5 questions. We give the example answer in section 6. "
   ]
  },
  {
   "cell_type": "markdown",
   "metadata": {
    "id": "4ngFlilwu8RO"
   },
   "source": [
    "**4.1 Method 1**\n",
    "\n",
    "#### Q: What assumptions need to be verified at this step?\n",
    "#### A: (answer here)\n",
    "#### Q: What algorithm did you choose?\n",
    "#### A: Linear Regression \n",
    "#### Q: Why you choose this algorithm?\n",
    "#### A: (answer here)\n",
    "#### Q: What metric can measure the quality of your algorithm?\n",
    "#### A: (answer here)\n",
    "#### Q: What is the outcome?\n",
    "#### A: (answer here)\n",
    "#### Q: Analysis and discussion:\n",
    "#### A: (answer here)"
   ]
  },
  {
   "cell_type": "code",
   "execution_count": null,
   "metadata": {
    "id": "nK6TznoEvC_k"
   },
   "outputs": [],
   "source": [
    "# code for modeling\n"
   ]
  },
  {
   "cell_type": "code",
   "execution_count": null,
   "metadata": {
    "id": "neHGO3EXBXEO"
   },
   "outputs": [],
   "source": [
    "# code for visualization the outcome"
   ]
  },
  {
   "cell_type": "markdown",
   "metadata": {
    "id": "ql_KAEqTtiBs"
   },
   "source": [
    "**4.2 Method 2**\n",
    "\n",
    "#### Q: What assumptions need to be verified at this step?\n",
    "#### A: (answer here)\n",
    "#### Q: What algorithm did you choose?\n",
    "#### A: (answer here)\n",
    "#### Q: Why you choose this algorithm?\n",
    "#### A: (answer here)\n",
    "#### Q: What metric can measure the quality of your algorithm?\n",
    "#### A: (answer here)\n",
    "#### Q: What is the outcome?\n",
    "#### A: (answer here)\n",
    "#### Q: Analysis and discussion:\n",
    "#### A: (answer here)"
   ]
  },
  {
   "cell_type": "code",
   "execution_count": null,
   "metadata": {
    "id": "-IsCYINhtwQO"
   },
   "outputs": [],
   "source": [
    "# code for modeling"
   ]
  },
  {
   "cell_type": "code",
   "execution_count": null,
   "metadata": {
    "id": "3jC-KRd-t1ti"
   },
   "outputs": [],
   "source": [
    "# code for visualization the outcome"
   ]
  },
  {
   "cell_type": "markdown",
   "metadata": {
    "id": "HMl3vOCRtljB"
   },
   "source": [
    "**4.3 Method 3**\n",
    "\n",
    "#### Q: What assumptions need to be verified at this step?\n",
    "#### A: (answer here)\n",
    "#### Q: What algorithm did you choose?\n",
    "#### A: (answer here)\n",
    "#### Q: Why you choose this algorithm?\n",
    "#### A: (answer here)\n",
    "#### Q: What metric can measure the quality of your algorithm?\n",
    "#### A: (answer here)\n",
    "#### Q: What is the outcome?\n",
    "#### A: (answer here)\n",
    "#### Q: Analysis and discussion:\n",
    "#### A: (answer here)"
   ]
  },
  {
   "cell_type": "code",
   "execution_count": null,
   "metadata": {
    "id": "zIGftMSUtxD1"
   },
   "outputs": [],
   "source": [
    "# code for modeling"
   ]
  },
  {
   "cell_type": "code",
   "execution_count": null,
   "metadata": {
    "id": "aPAZJ6Mzt2nH"
   },
   "outputs": [],
   "source": [
    "# code for visualization the outcome"
   ]
  },
  {
   "cell_type": "markdown",
   "metadata": {
    "id": "7ko5-Ppdto57"
   },
   "source": [
    "**4.4 Method 4**\n",
    "\n",
    "#### Q: What assumptions need to be verified at this step?\n",
    "#### A: (answer here)\n",
    "#### Q: What algorithm did you choose?\n",
    "#### A: (answer here)\n",
    "#### Q: Why you choose this algorithm?\n",
    "#### A: (answer here)\n",
    "#### Q: What metric can measure the quality of your algorithm?\n",
    "#### A: (answer here)\n",
    "#### Q: What is the outcome?\n",
    "#### A: (answer here)\n",
    "#### Q: Analysis and discussion:\n",
    "#### A: (answer here)"
   ]
  },
  {
   "cell_type": "code",
   "execution_count": null,
   "metadata": {
    "id": "hsVqVTXKtx59"
   },
   "outputs": [],
   "source": [
    "# code for modeling"
   ]
  },
  {
   "cell_type": "code",
   "execution_count": null,
   "metadata": {
    "id": "6ETWy7Smt3gv"
   },
   "outputs": [],
   "source": [
    "# code for visualization the outcome"
   ]
  },
  {
   "cell_type": "markdown",
   "metadata": {
    "id": "CxWwTh_HtroT"
   },
   "source": [
    "**4.5 Method 5**\n",
    "\n",
    "#### Q: What assumptions need to be verified at this step?\n",
    "#### A: (answer here)\n",
    "#### Q: What algorithm did you choose?\n",
    "#### A: (answer here)\n",
    "#### Q: Why you choose this algorithm?\n",
    "#### A: (answer here)\n",
    "#### Q: What metric can measure the quality of your algorithm?\n",
    "#### A: (answer here)\n",
    "#### Q: What is the outcome?\n",
    "#### A: (answer here)\n",
    "#### Q: Analysis and discussion:\n",
    "#### A: (answer here)"
   ]
  },
  {
   "cell_type": "code",
   "execution_count": null,
   "metadata": {
    "id": "8zGSWLS_tyvl"
   },
   "outputs": [],
   "source": [
    "# code for modeling"
   ]
  },
  {
   "cell_type": "code",
   "execution_count": null,
   "metadata": {
    "id": "-reZJ0Odt4dz"
   },
   "outputs": [],
   "source": [
    "# code for visualization the outcome"
   ]
  },
  {
   "cell_type": "markdown",
   "metadata": {
    "id": "DgimEClb0zWP"
   },
   "source": [
    "#### 5 Each person contribution\n",
    "(for example, person 1 implemented first algorithm and person 2 helped to analysis the first algorithm ....) "
   ]
  },
  {
   "cell_type": "markdown",
   "metadata": {
    "id": "YYeRORfhuYIu"
   },
   "source": [
    "#### 6 Example\n",
    "\n",
    "#### Q: What assumptions need to be verified at this step?\n",
    "#### A: A Hospital Care chain wants to open a series of Emergency-Care wards within a region. We assume that the hospital knows the location of all the maximum accident-prone areas in the region. They have to decide the number of the Emergency Units to be opened and the location of these Emergency Units, so that all the accident-prone areas are covered in the vicinity of these Emergency Units. We want to help to decide the location of these Emergency Units so that the whole region is covered.\n",
    "#### Q: What algorithm did you choose?\n",
    "#### A: k-means\n",
    "#### Q: Why you choose this algorithm?\n",
    "#### A: After observing the data, we don't know how many locations there are, and we don't have labelled ground truth data. So we need a clustering algorithm. Kmeans clustering is one of the most popular clustering algorithms and usually the first thing practitioners apply when solving clustering tasks to get an idea of the structure of the dataset. Therefore, we choose k-means algorithm. **I already have completed PCA to map my data to 2 dimension for k-means algorithm.**\n",
    "#### Q: What metric can measure the quality of your algorithm?\n",
    "#### A: I would use Percentage of Variance Explained (PVE) to evaluate clustering algorithm.\n",
    "#### Q: What is the outcome?\n",
    "#### A: I divided my data into train dataset (contains 90% of data) and test dataset (contains 10% of data). I used the test data to evaluate the outcome of k-means algorithm. In the cluster-predict methodology, we can evaluate how well the models are performing based on different K clusters since clusters are used in the downstream modeling. I will use Elbow method and Silhouette analysis for evaluation.\n",
    "+ Elbow method:\n",
    "We use elbow method to check the k we choose.\n",
    "The following figure shows the result: ...\n",
    "+ Silhouette analysis: ...\n",
    "\n",
    "#### Q: Analysis and discussion:\n",
    "#### A: Accoridng the visualization of clustered data, we could conclude the location of these Emergency Units, which shows in the following image. ......"
   ]
  },
  {
   "cell_type": "markdown",
   "metadata": {
    "id": "eaDWN21SvpXc"
   },
   "source": [
    "### Submission guideline:\n",
    "1. write your code and report in this notebook. \n",
    "2. save this notebook as <person1ubname_person2ubname.ipynb>.\n",
    "3. save your raw data in data folder.\n",
    "4. save the notebook file with data folder in a folder named <person1ubname_person2ubname.zip>. \n",
    "5. upload your zip file to the ub learns.\n",
    "\n",
    "**Each person from a team needs to make submissions.**"
   ]
  },
  {
   "cell_type": "markdown",
   "metadata": {
    "id": "EKhTnH90vyGU"
   },
   "source": [
    "### Grading:\n",
    "    0 – no submission by deadline;\n",
    "    5 – complete 1 algorithm with complete analysis and discussion;\n",
    "    10 – complete 2-3 algorithms with complete analysis and discussion;\n",
    "    15 – complete 4 algorithms with complete analysis and discussion;\n",
    "    20 - complete 5 algorithms with complete analysis and discussion, however, the report is the best when compared with other teams;\n",
    "    25 - the whole process is prefect;\n",
    "    \n",
    "The submission deadline is **March 21 on 11:59:00 PM**. (Note 11:59:01 PM will be counted as late submission). Once the deadline is past, you get a zero for the phase if you did not submit anything, even though you need to complete the phase to work on the next phase.\n"
   ]
  }
 ],
 "metadata": {
  "colab": {
   "collapsed_sections": [],
   "name": "phase2.ipynb",
   "provenance": [],
   "toc_visible": true
  },
  "kernelspec": {
   "display_name": "Python 3",
   "language": "python",
   "name": "python3"
  },
  "language_info": {
   "codemirror_mode": {
    "name": "ipython",
    "version": 3
   },
   "file_extension": ".py",
   "mimetype": "text/x-python",
   "name": "python",
   "nbconvert_exporter": "python",
   "pygments_lexer": "ipython3",
   "version": "3.7.7"
  }
 },
 "nbformat": 4,
 "nbformat_minor": 1
}
